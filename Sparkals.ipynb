{
 "cells": [
  {
   "cell_type": "code",
   "execution_count": 1,
   "id": "0c62a522-3413-435d-8861-41415a3cd37f",
   "metadata": {
    "canvas": {
     "comments": [],
     "componentType": "CodeCell",
     "copiedOriginId": null,
     "diskcache": false,
     "headerColor": "transparent",
     "id": "cad4f066-6cf2-46ec-9d93-a9fc4ecb0d77",
     "isComponent": false,
     "name": "",
     "parents": []
    }
   },
   "outputs": [],
   "source": [
    "from pyspark.sql import SparkSession\n",
    "from pyspark.ml.recommendation import ALS\n",
    "import pyspark\n",
    "from sn import stock_name\n",
    "from pyspark import SparkConf\n",
    "from sklearn.preprocessing import MultiLabelBinarizer\n",
    "import pandas as pd\n",
    "import os\n",
    "import sys\n",
    "import random\n",
    "from pyspark.ml.evaluation import BinaryClassificationEvaluator,RankingEvaluator\n",
    "from pyspark.ml.feature import StringIndexer\n",
    "from pyspark.ml.tuning import ParamGridBuilder, CrossValidator\n",
    "\n"
   ]
  },
  {
   "cell_type": "code",
   "execution_count": 20,
   "id": "0d2421f2-7915-443e-ae76-3922b529a6aa",
   "metadata": {
    "canvas": {
     "comments": [],
     "componentType": "CodeCell",
     "copiedOriginId": null,
     "diskcache": false,
     "headerColor": "transparent",
     "id": "66f86387-d529-4d66-9601-9053641fde15",
     "isComponent": false,
     "name": "",
     "parents": []
    }
   },
   "outputs": [],
   "source": [
    "def ROEM(predictions, userCol = \"userId\", itemCol = \"stockId\", ratingCol = \"hold\"):\n",
    "              #Creates table that can be queried\n",
    "              predictions.createOrReplaceTempView(\"predictions\")\n",
    "\n",
    "              #Sum of total number of plays of all songs\n",
    "              denominator = predictions.groupBy().sum(ratingCol).collect()[0][0]\n",
    "\n",
    "              #Calculating rankings of songs predictions by user\n",
    "              spark.sql(\"SELECT \" + userCol + \" , \" + ratingCol + \" , PERCENT_RANK() OVER (PARTITION BY \" + userCol + \" ORDER BY prediction DESC) AS rank FROM predictions\").createOrReplaceTempView(\"rankings\")\n",
    "\n",
    "              #Multiplies the rank of each song by the number of plays and adds the products together\n",
    "              numerator = spark.sql('SELECT SUM(' + ratingCol + ' * rank) FROM rankings').collect()[0][0]\n",
    "\n",
    "              performance = numerator/denominator\n",
    "\n",
    "              return performance"
   ]
  },
  {
   "cell_type": "code",
   "execution_count": 3,
   "id": "ebd1a8d7-f7c9-4db4-9ea0-080a53d15cc1",
   "metadata": {
    "canvas": {
     "comments": [],
     "componentType": "CodeCell",
     "copiedOriginId": null,
     "diskcache": false,
     "headerColor": "transparent",
     "id": "1415e9d0-a273-4878-8532-6caad76ee3be",
     "isComponent": false,
     "name": "",
     "parents": []
    }
   },
   "outputs": [],
   "source": [
    "os.environ['PYSPARK_PYTHON'] = sys.executable\n",
    "os.environ['PYSPARK_DRIVER_PYTHON'] = sys.executable"
   ]
  },
  {
   "cell_type": "code",
   "execution_count": 4,
   "id": "5bebaf98-d4f4-4f14-b903-3e44eb97b007",
   "metadata": {
    "canvas": {
     "comments": [],
     "componentType": "CodeCell",
     "copiedOriginId": null,
     "diskcache": false,
     "headerColor": "transparent",
     "id": "5f5be2db-c0a0-46c7-a567-bd03ab4d2926",
     "isComponent": false,
     "name": "",
     "parents": []
    },
    "tags": []
   },
   "outputs": [],
   "source": [
    "sparkConf = SparkConf().setAppName('ALS')\\\n",
    "    .setMaster('local[*]')\\\n",
    "    .set('spark.executor.memory','4g')\\\n",
    "    .set('spark.driver.memory','4g')\n",
    "\n",
    "spark = SparkSession.builder \\\n",
    "    .config(conf=sparkConf) \\\n",
    "    .getOrCreate()\n"
   ]
  },
  {
   "cell_type": "code",
   "execution_count": 5,
   "id": "f9954f26-68a9-42b4-983d-15f366f1da5f",
   "metadata": {
    "canvas": {
     "comments": [],
     "componentType": "CodeCell",
     "copiedOriginId": null,
     "diskcache": false,
     "headerColor": "transparent",
     "id": "b9aeb4bd-f27d-416a-b6fe-224639dc61e8",
     "isComponent": false,
     "name": "",
     "parents": []
    }
   },
   "outputs": [],
   "source": [
    "stock_name = random.sample(stock_name,100)\n"
   ]
  },
  {
   "cell_type": "code",
   "execution_count": 6,
   "id": "bc188f33-52ca-4064-841c-98310c509301",
   "metadata": {
    "canvas": {
     "comments": [],
     "componentType": "CodeCell",
     "copiedOriginId": null,
     "diskcache": false,
     "headerColor": "transparent",
     "id": "ad2f4984-de5f-478b-83b0-12a30ca1ce78",
     "isComponent": false,
     "name": "",
     "parents": []
    }
   },
   "outputs": [],
   "source": [
    "num_lists = 100\n",
    "max_list_length = 10\n",
    "\n",
    "# Generate 100 lists\n",
    "result_lists = []\n",
    "for _ in range(num_lists):\n",
    "    # Determine the length of the current list randomly\n",
    "    list_length = random.randint(1, max_list_length)\n",
    "    \n",
    "    # Randomly pick stock names for the current list\n",
    "    current_list = random.sample(stock_name, list_length)\n",
    "    \n",
    "    # Add the current list to the result_lists\n",
    "    result_lists.append(current_list)\n"
   ]
  },
  {
   "cell_type": "code",
   "execution_count": 7,
   "id": "9c9f9563-820a-4300-8863-792d1b8ab40e",
   "metadata": {
    "canvas": {
     "comments": [],
     "componentType": "CodeCell",
     "copiedOriginId": null,
     "diskcache": false,
     "headerColor": "transparent",
     "id": "b87bea7c-af1d-4a5b-bb92-e5108e6b78fb",
     "isComponent": false,
     "name": "",
     "parents": []
    }
   },
   "outputs": [
    {
     "name": "stdout",
     "output_type": "stream",
     "text": [
      "    userId                                          stockName\n",
      "0        1                                              [TTD]\n",
      "1        2                    [BSQR, RCACW, TITN, GOEV, CPIX]\n",
      "2        3                                            [HMACW]\n",
      "3        4                           [GOEV, BFRG, ADIL, BLEU]\n",
      "4        5                          [DUNEW, YMAB, PDCO, ZIVO]\n",
      "..     ...                                                ...\n",
      "95      96                          [HMACW, BSQR, NCPL, SLVR]\n",
      "96      97                               [MNTK, PNACW, SVIIR]\n",
      "97      98  [PLTN, ZIVO, JUGG, HMACW, PETV, EWCZ, SMAP, GO...\n",
      "98      99                           [BFRG, AVT, GCMGW, PNAC]\n",
      "99     100  [SQFT, FLNC, CVAC, APTMW, BFRI, ROSEW, SVIIR, ...\n",
      "\n",
      "[100 rows x 2 columns]\n"
     ]
    },
    {
     "data": {
      "text/html": [
       "<div>\n",
       "<style scoped>\n",
       "    .dataframe tbody tr th:only-of-type {\n",
       "        vertical-align: middle;\n",
       "    }\n",
       "\n",
       "    .dataframe tbody tr th {\n",
       "        vertical-align: top;\n",
       "    }\n",
       "\n",
       "    .dataframe thead th {\n",
       "        text-align: right;\n",
       "    }\n",
       "</style>\n",
       "<table border=\"1\" class=\"dataframe\">\n",
       "  <thead>\n",
       "    <tr style=\"text-align: right;\">\n",
       "      <th></th>\n",
       "      <th>userId</th>\n",
       "      <th>stockName</th>\n",
       "      <th>hold</th>\n",
       "    </tr>\n",
       "  </thead>\n",
       "  <tbody>\n",
       "    <tr>\n",
       "      <th>0</th>\n",
       "      <td>1</td>\n",
       "      <td>TTD</td>\n",
       "      <td>1</td>\n",
       "    </tr>\n",
       "    <tr>\n",
       "      <th>1</th>\n",
       "      <td>2</td>\n",
       "      <td>BSQR</td>\n",
       "      <td>1</td>\n",
       "    </tr>\n",
       "    <tr>\n",
       "      <th>1</th>\n",
       "      <td>2</td>\n",
       "      <td>RCACW</td>\n",
       "      <td>1</td>\n",
       "    </tr>\n",
       "    <tr>\n",
       "      <th>1</th>\n",
       "      <td>2</td>\n",
       "      <td>TITN</td>\n",
       "      <td>1</td>\n",
       "    </tr>\n",
       "    <tr>\n",
       "      <th>1</th>\n",
       "      <td>2</td>\n",
       "      <td>GOEV</td>\n",
       "      <td>1</td>\n",
       "    </tr>\n",
       "    <tr>\n",
       "      <th>...</th>\n",
       "      <td>...</td>\n",
       "      <td>...</td>\n",
       "      <td>...</td>\n",
       "    </tr>\n",
       "    <tr>\n",
       "      <th>99</th>\n",
       "      <td>100</td>\n",
       "      <td>ROSEW</td>\n",
       "      <td>1</td>\n",
       "    </tr>\n",
       "    <tr>\n",
       "      <th>99</th>\n",
       "      <td>100</td>\n",
       "      <td>SVIIR</td>\n",
       "      <td>1</td>\n",
       "    </tr>\n",
       "    <tr>\n",
       "      <th>99</th>\n",
       "      <td>100</td>\n",
       "      <td>MERC</td>\n",
       "      <td>1</td>\n",
       "    </tr>\n",
       "    <tr>\n",
       "      <th>99</th>\n",
       "      <td>100</td>\n",
       "      <td>TRVN</td>\n",
       "      <td>1</td>\n",
       "    </tr>\n",
       "    <tr>\n",
       "      <th>99</th>\n",
       "      <td>100</td>\n",
       "      <td>GOEV</td>\n",
       "      <td>1</td>\n",
       "    </tr>\n",
       "  </tbody>\n",
       "</table>\n",
       "<p>557 rows × 3 columns</p>\n",
       "</div>"
      ],
      "text/plain": [
       "    userId stockName  hold\n",
       "0        1       TTD     1\n",
       "1        2      BSQR     1\n",
       "1        2     RCACW     1\n",
       "1        2      TITN     1\n",
       "1        2      GOEV     1\n",
       "..     ...       ...   ...\n",
       "99     100     ROSEW     1\n",
       "99     100     SVIIR     1\n",
       "99     100      MERC     1\n",
       "99     100      TRVN     1\n",
       "99     100      GOEV     1\n",
       "\n",
       "[557 rows x 3 columns]"
      ]
     },
     "execution_count": 7,
     "metadata": {},
     "output_type": "execute_result"
    }
   ],
   "source": [
    "data = {'userId':[x+1 for x in range(100)],\n",
    "        'stockName':result_lists}\n",
    "stocks = pd.DataFrame({'stocks':stock_name})\n",
    "# Create a PySpark DataFrame from the sample data\n",
    "df = pd.DataFrame({'userId':[x+1 for x in range(100)]})\n",
    "real = pd.DataFrame(data)\n",
    "print(real)\n",
    "real = real.explode('stockName')\n",
    "real['hold'] = 1\n",
    "real"
   ]
  },
  {
   "cell_type": "code",
   "execution_count": 8,
   "id": "1d299cab-db18-40a3-a011-2f54eeed4800",
   "metadata": {
    "canvas": {
     "comments": [],
     "componentType": "CodeCell",
     "copiedOriginId": null,
     "diskcache": false,
     "headerColor": "transparent",
     "id": "82c3c4a3-ce6b-4d71-b459-d79d061083fd",
     "isComponent": false,
     "name": "",
     "parents": []
    }
   },
   "outputs": [
    {
     "data": {
      "text/html": [
       "<div>\n",
       "<style scoped>\n",
       "    .dataframe tbody tr th:only-of-type {\n",
       "        vertical-align: middle;\n",
       "    }\n",
       "\n",
       "    .dataframe tbody tr th {\n",
       "        vertical-align: top;\n",
       "    }\n",
       "\n",
       "    .dataframe thead th {\n",
       "        text-align: right;\n",
       "    }\n",
       "</style>\n",
       "<table border=\"1\" class=\"dataframe\">\n",
       "  <thead>\n",
       "    <tr style=\"text-align: right;\">\n",
       "      <th></th>\n",
       "      <th>userId</th>\n",
       "      <th>stocks</th>\n",
       "      <th>hold</th>\n",
       "    </tr>\n",
       "  </thead>\n",
       "  <tbody>\n",
       "    <tr>\n",
       "      <th>0</th>\n",
       "      <td>1</td>\n",
       "      <td>MNTK</td>\n",
       "      <td>0.0</td>\n",
       "    </tr>\n",
       "    <tr>\n",
       "      <th>1</th>\n",
       "      <td>1</td>\n",
       "      <td>RNA</td>\n",
       "      <td>0.0</td>\n",
       "    </tr>\n",
       "    <tr>\n",
       "      <th>2</th>\n",
       "      <td>1</td>\n",
       "      <td>TWLVU</td>\n",
       "      <td>0.0</td>\n",
       "    </tr>\n",
       "    <tr>\n",
       "      <th>3</th>\n",
       "      <td>1</td>\n",
       "      <td>RIBT</td>\n",
       "      <td>0.0</td>\n",
       "    </tr>\n",
       "    <tr>\n",
       "      <th>4</th>\n",
       "      <td>1</td>\n",
       "      <td>CODX</td>\n",
       "      <td>0.0</td>\n",
       "    </tr>\n",
       "    <tr>\n",
       "      <th>...</th>\n",
       "      <td>...</td>\n",
       "      <td>...</td>\n",
       "      <td>...</td>\n",
       "    </tr>\n",
       "    <tr>\n",
       "      <th>9995</th>\n",
       "      <td>100</td>\n",
       "      <td>GNTA</td>\n",
       "      <td>0.0</td>\n",
       "    </tr>\n",
       "    <tr>\n",
       "      <th>9996</th>\n",
       "      <td>100</td>\n",
       "      <td>BFRI</td>\n",
       "      <td>1.0</td>\n",
       "    </tr>\n",
       "    <tr>\n",
       "      <th>9997</th>\n",
       "      <td>100</td>\n",
       "      <td>BANX</td>\n",
       "      <td>0.0</td>\n",
       "    </tr>\n",
       "    <tr>\n",
       "      <th>9998</th>\n",
       "      <td>100</td>\n",
       "      <td>IMTX</td>\n",
       "      <td>0.0</td>\n",
       "    </tr>\n",
       "    <tr>\n",
       "      <th>9999</th>\n",
       "      <td>100</td>\n",
       "      <td>RMTI</td>\n",
       "      <td>0.0</td>\n",
       "    </tr>\n",
       "  </tbody>\n",
       "</table>\n",
       "<p>10000 rows × 3 columns</p>\n",
       "</div>"
      ],
      "text/plain": [
       "      userId stocks  hold\n",
       "0          1   MNTK   0.0\n",
       "1          1    RNA   0.0\n",
       "2          1  TWLVU   0.0\n",
       "3          1   RIBT   0.0\n",
       "4          1   CODX   0.0\n",
       "...      ...    ...   ...\n",
       "9995     100   GNTA   0.0\n",
       "9996     100   BFRI   1.0\n",
       "9997     100   BANX   0.0\n",
       "9998     100   IMTX   0.0\n",
       "9999     100   RMTI   0.0\n",
       "\n",
       "[10000 rows x 3 columns]"
      ]
     },
     "execution_count": 8,
     "metadata": {},
     "output_type": "execute_result"
    }
   ],
   "source": [
    "DreamedDF=df.merge(stocks,how='cross')\n",
    "test = DreamedDF.merge(real,how='left',left_on=['userId','stocks'],right_on=['userId','stockName'])\n",
    "test = test.drop('stockName',axis='columns')\n",
    "test = test.fillna(0)\n",
    "test"
   ]
  },
  {
   "cell_type": "code",
   "execution_count": 9,
   "id": "93faebd6-8c75-40d0-8d0c-76affa1c7c54",
   "metadata": {
    "canvas": {
     "comments": [],
     "componentType": "CodeCell",
     "copiedOriginId": null,
     "diskcache": false,
     "headerColor": "transparent",
     "id": "2a1f29cd-c8b1-4cf1-9f3a-fa565ecc74fe",
     "isComponent": false,
     "name": "",
     "parents": []
    }
   },
   "outputs": [],
   "source": [
    "# Create a PySpark DataFrame from the sample data\n",
    "sparkdf = spark.createDataFrame(test)\n",
    "indexer = StringIndexer(inputCol='stocks', outputCol='stockId')\n",
    "indexed_df = indexer.fit(sparkdf).transform(sparkdf)\n",
    "indexed_df =indexed_df.withColumn('hold',indexed_df['hold'].cast('int'))\n",
    "indexed_df =indexed_df.withColumn('stockId',indexed_df['stockId'].cast('int'))\n",
    "\n",
    "(training, testing) = indexed_df.randomSplit([0.8, 0.2])"
   ]
  },
  {
   "cell_type": "code",
   "execution_count": 10,
   "id": "3d2a466d-f39c-4a2d-b687-9a75b5f09ebf",
   "metadata": {
    "canvas": {
     "comments": [],
     "componentType": "CodeCell",
     "copiedOriginId": null,
     "diskcache": false,
     "headerColor": "transparent",
     "id": "4d8bfa91-715d-4558-807e-48b94f0bf0d9",
     "isComponent": false,
     "name": "",
     "parents": []
    }
   },
   "outputs": [],
   "source": [
    "als = ALS(\n",
    "    rank=10,\n",
    "    maxIter=10,\n",
    "    regParam=0.01,\n",
    "    userCol=\"userId\",\n",
    "    itemCol='stockId',\n",
    "    coldStartStrategy=\"drop\",\n",
    "    ratingCol ='hold',\n",
    "    implicitPrefs=True,\n",
    "    nonnegative=True\n",
    ")\n"
   ]
  },
  {
   "cell_type": "code",
   "execution_count": 21,
   "id": "84bd3317-6638-4733-9758-4c980e782154",
   "metadata": {
    "canvas": {
     "comments": [],
     "componentType": "CodeCell",
     "copiedOriginId": null,
     "diskcache": false,
     "headerColor": "transparent",
     "id": "c7113083-a5b0-428b-ad85-a81959598e3c",
     "isComponent": false,
     "name": "",
     "parents": []
    }
   },
   "outputs": [],
   "source": [
    "from pyspark.ml.evaluation import Evaluator\n",
    "\n",
    "class ROEMEvaluator(Evaluator):\n",
    "    def __init__(self, userCol=\"userId\", itemCol=\"stockId\", ratingCol=\"hold\"):\n",
    "        self.userCol = userCol\n",
    "        self.itemCol = itemCol\n",
    "        self.ratingCol = ratingCol\n",
    "\n",
    "    def _evaluate(self, dataset):\n",
    "        predictions = dataset.withColumnRenamed(\"prediction\", \"predictions\")\n",
    "\n",
    "        predictions.createOrReplaceTempView(\"predictions\")\n",
    "        denominator = predictions.groupBy().sum(self.ratingCol).collect()[0][0]\n",
    "        spark.sql(\"SELECT \" + self.userCol + \" , \" + self.ratingCol + \" , PERCENT_RANK() OVER (PARTITION BY \" + self.userCol + \" ORDER BY hold DESC) AS rank FROM predictions\").createOrReplaceTempView(\"rankings\")\n",
    "        numerator = spark.sql('SELECT SUM(' + self.ratingCol + ' * rank) FROM rankings').collect()[0][0]\n",
    "        performance = numerator / denominator\n",
    "\n",
    "        return performance\n"
   ]
  },
  {
   "cell_type": "code",
   "execution_count": 22,
   "id": "60c2d5ce-c73d-4123-9c2b-006e841e71c5",
   "metadata": {
    "canvas": {
     "comments": [],
     "componentType": "CodeCell",
     "copiedOriginId": null,
     "diskcache": false,
     "headerColor": "transparent",
     "id": "1c4beabe-2cee-441f-a23b-e2d387237470",
     "isComponent": false,
     "name": "",
     "parents": []
    }
   },
   "outputs": [],
   "source": [
    "param_grid = ParamGridBuilder() \\\n",
    "            .addGrid(als.rank, [10, 20,30 ]) \\\n",
    "            .addGrid(als.maxIter, [5,10  ]) \\\n",
    "            .addGrid(als.regParam, [.01, .1, 1]) \\\n",
    "            .build()\n",
    "evaluator = ROEMEvaluator()\n",
    "\n",
    "cv = CrossValidator(estimator=als, estimatorParamMaps=param_grid, evaluator=evaluator, numFolds=3)"
   ]
  },
  {
   "cell_type": "code",
   "execution_count": 23,
   "id": "6b2f9f5c-e832-4643-b654-35f9f98a184b",
   "metadata": {
    "canvas": {
     "comments": [],
     "componentType": "CodeCell",
     "copiedOriginId": null,
     "diskcache": false,
     "headerColor": "transparent",
     "id": "832bf7c7-12c4-4f2b-ad91-6d22342a5a9e",
     "isComponent": false,
     "name": "",
     "parents": []
    }
   },
   "outputs": [],
   "source": [
    "model = cv.fit(training)\n",
    "best_model = model.bestModel"
   ]
  },
  {
   "cell_type": "code",
   "execution_count": 24,
   "id": "cf20590f-3e68-49af-ac2c-256781dde71c",
   "metadata": {
    "canvas": {
     "comments": [],
     "componentType": "CodeCell",
     "copiedOriginId": null,
     "diskcache": false,
     "headerColor": "transparent",
     "id": "17ebb1df-1f7d-453f-87b1-9168916d5478",
     "isComponent": false,
     "name": "",
     "parents": []
    }
   },
   "outputs": [
    {
     "name": "stdout",
     "output_type": "stream",
     "text": [
      "+------+------+----+-------+------------+\n",
      "|userId|stocks|hold|stockId|  prediction|\n",
      "+------+------+----+-------+------------+\n",
      "|     1|   AVT|   0|      4|         0.0|\n",
      "|     1|  BANX|   0|      5|         0.0|\n",
      "|     1|  DCTH|   0|     20|  0.10284982|\n",
      "|     1|  EWCZ|   0|     25|         0.0|\n",
      "|     1|  FEXD|   0|     27|         0.0|\n",
      "|     1|  FLNC|   0|     28|  0.06964305|\n",
      "|     1| FNVTU|   0|     30|  0.04496716|\n",
      "|     1|  GNTA|   0|     33|  0.04140578|\n",
      "|     1|  MERC|   0|     59|   0.0189712|\n",
      "|     1|  MTEM|   0|     63|  0.14189382|\n",
      "|     1|  SBUX|   0|     80|0.0034173457|\n",
      "|     1|  SKGR|   0|     82|0.0076106824|\n",
      "|     1|  SMID|   0|     85| 0.022942737|\n",
      "|     1|  TRVN|   0|     93|         0.0|\n",
      "|     1| TWLVU|   0|     95|         0.0|\n",
      "|     6|  AUGX|   0|      3|         0.0|\n",
      "|     6|  BCAL|   0|      7|  0.09518931|\n",
      "|     6|  BFRG|   0|      8|  0.12921979|\n",
      "|     6|  DCTH|   0|     20| 0.040333107|\n",
      "|     6|  EWCZ|   0|     25|  0.14346346|\n",
      "+------+------+----+-------+------------+\n",
      "only showing top 20 rows\n",
      "\n"
     ]
    }
   ],
   "source": [
    "predictions = best_model.transform(testing)\n",
    "predictions.show()"
   ]
  },
  {
   "cell_type": "code",
   "execution_count": 25,
   "id": "4f48b994-4125-48e2-9fe3-411f223491be",
   "metadata": {
    "canvas": {
     "comments": [],
     "componentType": "CodeCell",
     "copiedOriginId": "3b13d01f-75eb-46a4-95c7-37b341733813",
     "diskcache": false,
     "headerColor": "transparent",
     "id": "de4bc221-a53e-476d-9a7c-a3372bbeba18",
     "isComponent": false,
     "name": "",
     "parents": []
    }
   },
   "outputs": [
    {
     "data": {
      "text/plain": [
       "0.475160469543364"
      ]
     },
     "execution_count": 25,
     "metadata": {},
     "output_type": "execute_result"
    }
   ],
   "source": [
    "ROEM(predictions,userCol = \"userId\", itemCol = \"stockId\", ratingCol = \"hold\")"
   ]
  },
  {
   "cell_type": "code",
   "execution_count": 30,
   "id": "c456d994-7b76-421a-870c-604203b07c24",
   "metadata": {
    "canvas": {
     "comments": [],
     "componentType": "CodeCell",
     "copiedOriginId": null,
     "diskcache": false,
     "headerColor": "transparent",
     "id": "430f528d-242b-4eef-bc79-ad8a1fb74592",
     "isComponent": false,
     "name": "",
     "parents": []
    }
   },
   "outputs": [
    {
     "name": "stdout",
     "output_type": "stream",
     "text": [
      "+------+--------------------+\n",
      "|userId|     recommendations|\n",
      "+------+--------------------+\n",
      "|    20|[{79, 0.56232935}...|\n",
      "|    40|[{43, 0.3372355},...|\n",
      "|   100|[{90, 0.58905655}...|\n",
      "|    10|[{39, 0.62642473}...|\n",
      "|    50|[{52, 0.598133}, ...|\n",
      "|    80|[{5, 0.7704651}, ...|\n",
      "|    70|[{39, 0.8731736},...|\n",
      "|    60|[{70, 0.7191778},...|\n",
      "|    90|[{52, 1.1672944},...|\n",
      "|    30|[{11, 0.44006598}...|\n",
      "|    31|[{89, 0.33500084}...|\n",
      "|    81|[{79, 1.0095809},...|\n",
      "|    91|[{90, 0.18109679}...|\n",
      "|     1|[{89, 0.16228397}...|\n",
      "|    41|[{79, 0.86852247}...|\n",
      "|    61|[{89, 0.22136004}...|\n",
      "|    51|[{71, 0.68776983}...|\n",
      "|    21|[{45, 0.41265896}...|\n",
      "|    11|[{79, 0.31077862}...|\n",
      "|    71|[{38, 0.12593175}...|\n",
      "+------+--------------------+\n",
      "only showing top 20 rows\n",
      "\n"
     ]
    }
   ],
   "source": [
    "recommendations = best_model.recommendForAllUsers(10)\n",
    "recommendations.show()"
   ]
  },
  {
   "cell_type": "code",
   "execution_count": 31,
   "id": "1d0d92bc-6ade-46b9-9af4-5ca1d69d2b37",
   "metadata": {
    "canvas": {
     "comments": [],
     "componentType": "CodeCell",
     "copiedOriginId": null,
     "diskcache": false,
     "headerColor": "transparent",
     "id": "9585a84d-0cc1-445d-810b-26d75ac91cc6",
     "isComponent": false,
     "name": "",
     "parents": []
    }
   },
   "outputs": [
    {
     "name": "stdout",
     "output_type": "stream",
     "text": [
      "+------+---------------------------------------------------------------------------------------------------------------------------------------------------------------------------------+\n",
      "|userId|recommendations                                                                                                                                                                  |\n",
      "+------+---------------------------------------------------------------------------------------------------------------------------------------------------------------------------------+\n",
      "|1     |[{89, 0.16228397}, {98, 0.1601815}, {42, 0.15702002}, {94, 0.1526056}, {81, 0.14688861}, {63, 0.14189382}, {40, 0.13945818}, {66, 0.13099423}, {20, 0.10284982}, {88, 0.1019261}]|\n",
      "+------+---------------------------------------------------------------------------------------------------------------------------------------------------------------------------------+\n",
      "\n"
     ]
    }
   ],
   "source": [
    "recommendations.filter(recommendations.userId==1).show(truncate=False)"
   ]
  },
  {
   "cell_type": "code",
   "execution_count": null,
   "id": "8aca8f32-8c8e-423c-836d-8a4405e19842",
   "metadata": {
    "canvas": {
     "comments": [],
     "componentType": "CodeCell",
     "copiedOriginId": null,
     "diskcache": false,
     "headerColor": "transparent",
     "id": "0463fcfa-443b-4bbd-84d0-6b858b148590",
     "isComponent": false,
     "name": "",
     "parents": []
    }
   },
   "outputs": [],
   "source": [
    "from pyspark.sql.functions import explode\n",
    "\n",
    "# Assuming `recommendations` is your DataFrame containing the ALS recommendations\n",
    "flattened_df = recommendations.select(\"userId\", explode(\"recommendations\").alias(\"rec\"))\n",
    "flattened_df = flattened_df.select(\"userId\", \"rec.stockId\", \"rec.rating\")\n",
    "tojoin = indexed_df.select('stocks','stockID')\n",
    "tojoin = tojoin.dropDuplicates([\"stockID\"])\n",
    "flattened_df = flattened_df.join(tojoin,flattened_df.stockId==tojoin.stockID,how='inner')\n"
   ]
  },
  {
   "cell_type": "code",
   "execution_count": null,
   "id": "96cad26e-b35e-4df5-8abb-b03ceb7993a3",
   "metadata": {
    "canvas": {
     "comments": [],
     "componentType": "CodeCell",
     "copiedOriginId": "da5a68fd-9c25-4d6f-815e-299d90d69147",
     "diskcache": false,
     "headerColor": "transparent",
     "id": "79b6fb11-ded4-494d-9035-226f0b48aa85",
     "isComponent": false,
     "name": "",
     "parents": []
    }
   },
   "outputs": [],
   "source": [
    "flattened_df.count()"
   ]
  },
  {
   "cell_type": "code",
   "execution_count": null,
   "id": "ac6b97a6-cb7d-4125-bb31-32b610b69f95",
   "metadata": {
    "canvas": {
     "comments": [],
     "componentType": "CodeCell",
     "copiedOriginId": null,
     "diskcache": false,
     "headerColor": "transparent",
     "id": "368e274f-9f9f-4790-9ec9-f189eb9e6677",
     "isComponent": false,
     "name": "",
     "parents": []
    }
   },
   "outputs": [],
   "source": [
    "recommendations_pandas = flattened_df.toPandas()"
   ]
  },
  {
   "cell_type": "code",
   "execution_count": null,
   "id": "71fdabf5-0ff4-487d-9992-2d10d36318bd",
   "metadata": {
    "canvas": {
     "comments": [],
     "componentType": "CodeCell",
     "copiedOriginId": null,
     "diskcache": false,
     "headerColor": "transparent",
     "id": "18c77645-1992-401f-b415-37127f5b6be6",
     "isComponent": false,
     "name": "",
     "parents": []
    }
   },
   "outputs": [],
   "source": [
    "recommendations_pandas.info()"
   ]
  },
  {
   "cell_type": "code",
   "execution_count": null,
   "id": "bbf1b6f3-5b6c-4b2e-a5c2-83c261ab795e",
   "metadata": {
    "canvas": {
     "comments": [],
     "componentType": "CodeCell",
     "copiedOriginId": null,
     "diskcache": false,
     "headerColor": "transparent",
     "id": "fbd29293-b94a-4b1e-b6b0-b16cc4f33f62",
     "isComponent": false,
     "name": "",
     "parents": []
    }
   },
   "outputs": [],
   "source": [
    "#recommendations_pandas.to_csv('Recommended')"
   ]
  },
  {
   "cell_type": "code",
   "execution_count": null,
   "id": "d5f7c521-fa95-4f3b-84c1-e69f410c12c4",
   "metadata": {
    "canvas": {
     "comments": [],
     "componentType": "CodeCell",
     "copiedOriginId": null,
     "diskcache": false,
     "headerColor": "transparent",
     "id": "86e38c43-4259-4db2-bec7-13e21976364d",
     "isComponent": false,
     "name": "",
     "parents": []
    }
   },
   "outputs": [],
   "source": []
  }
 ],
 "metadata": {
  "canvas": {
   "colorPalette": [
    "inherit",
    "inherit",
    "inherit",
    "inherit",
    "inherit",
    "inherit",
    "inherit",
    "inherit",
    "inherit",
    "inherit"
   ],
   "parameters": [],
   "version": "1.0"
  },
  "kernelspec": {
   "display_name": "Python 3 (ipykernel)",
   "language": "python",
   "name": "python3"
  },
  "language_info": {
   "codemirror_mode": {
    "name": "ipython",
    "version": 3
   },
   "file_extension": ".py",
   "mimetype": "text/x-python",
   "name": "python",
   "nbconvert_exporter": "python",
   "pygments_lexer": "ipython3",
   "version": "3.10.9"
  }
 },
 "nbformat": 4,
 "nbformat_minor": 5
}
